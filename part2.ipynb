{
 "cells": [
  {
   "cell_type": "code",
   "execution_count": 6,
   "metadata": {},
   "outputs": [],
   "source": [
    "import pandas as pd\n",
    "import numpy as np\n",
    "import os\n",
    "import sklearn\n",
    "from sklearn.neural_network import MLPClassifier\n",
    "from sklearn.datasets import make_classification\n",
    "from sklearn.model_selection import train_test_split\n",
    "from sklearn.model_selection import GridSearchCV"
   ]
  },
  {
   "cell_type": "code",
   "execution_count": 9,
   "metadata": {},
   "outputs": [],
   "source": [
    "data_dir = 'data_reviews'\n",
    "y_train_df = pd.read_csv(os.path.join(data_dir, 'y_train.csv'))\n",
    "x_train_embeddings = np.load('data_reviews/x_train_BERT_embeddings.npy')\n",
    "x_test_embeddings = np.load('data_reviews/x_test_BERT_embeddings.npy')\n",
    "y_train_array = y_train_df.to_numpy()\n",
    "y_train_array = y_train_array.reshape((2400,))  #converting input y df to array\n"
   ]
  },
  {
   "cell_type": "code",
   "execution_count": 23,
   "metadata": {},
   "outputs": [],
   "source": [
    "param_grid = {'hidden_layer_sizes': [(768,), (100, ), (20, )],\n",
    "'alpha': np.logspace(-4, 4, 9)\n",
    "}"
   ]
  },
  {
   "cell_type": "code",
   "execution_count": 24,
   "metadata": {},
   "outputs": [
    {
     "name": "stderr",
     "output_type": "stream",
     "text": [
      "/home/lucas/micromamba/envs/cs135_env/lib/python3.10/site-packages/sklearn/neural_network/_multilayer_perceptron.py:686: ConvergenceWarning: Stochastic Optimizer: Maximum iterations (200) reached and the optimization hasn't converged yet.\n",
      "  warnings.warn(\n",
      "/home/lucas/micromamba/envs/cs135_env/lib/python3.10/site-packages/sklearn/neural_network/_multilayer_perceptron.py:686: ConvergenceWarning: Stochastic Optimizer: Maximum iterations (200) reached and the optimization hasn't converged yet.\n",
      "  warnings.warn(\n",
      "/home/lucas/micromamba/envs/cs135_env/lib/python3.10/site-packages/sklearn/neural_network/_multilayer_perceptron.py:686: ConvergenceWarning: Stochastic Optimizer: Maximum iterations (200) reached and the optimization hasn't converged yet.\n",
      "  warnings.warn(\n",
      "/home/lucas/micromamba/envs/cs135_env/lib/python3.10/site-packages/sklearn/neural_network/_multilayer_perceptron.py:686: ConvergenceWarning: Stochastic Optimizer: Maximum iterations (200) reached and the optimization hasn't converged yet.\n",
      "  warnings.warn(\n",
      "/home/lucas/micromamba/envs/cs135_env/lib/python3.10/site-packages/sklearn/neural_network/_multilayer_perceptron.py:686: ConvergenceWarning: Stochastic Optimizer: Maximum iterations (200) reached and the optimization hasn't converged yet.\n",
      "  warnings.warn(\n",
      "/home/lucas/micromamba/envs/cs135_env/lib/python3.10/site-packages/sklearn/neural_network/_multilayer_perceptron.py:686: ConvergenceWarning: Stochastic Optimizer: Maximum iterations (200) reached and the optimization hasn't converged yet.\n",
      "  warnings.warn(\n",
      "/home/lucas/micromamba/envs/cs135_env/lib/python3.10/site-packages/sklearn/neural_network/_multilayer_perceptron.py:686: ConvergenceWarning: Stochastic Optimizer: Maximum iterations (200) reached and the optimization hasn't converged yet.\n",
      "  warnings.warn(\n",
      "/home/lucas/micromamba/envs/cs135_env/lib/python3.10/site-packages/sklearn/neural_network/_multilayer_perceptron.py:686: ConvergenceWarning: Stochastic Optimizer: Maximum iterations (200) reached and the optimization hasn't converged yet.\n",
      "  warnings.warn(\n",
      "/home/lucas/micromamba/envs/cs135_env/lib/python3.10/site-packages/sklearn/neural_network/_multilayer_perceptron.py:686: ConvergenceWarning: Stochastic Optimizer: Maximum iterations (200) reached and the optimization hasn't converged yet.\n",
      "  warnings.warn(\n",
      "/home/lucas/micromamba/envs/cs135_env/lib/python3.10/site-packages/sklearn/neural_network/_multilayer_perceptron.py:686: ConvergenceWarning: Stochastic Optimizer: Maximum iterations (200) reached and the optimization hasn't converged yet.\n",
      "  warnings.warn(\n",
      "/home/lucas/micromamba/envs/cs135_env/lib/python3.10/site-packages/sklearn/neural_network/_multilayer_perceptron.py:686: ConvergenceWarning: Stochastic Optimizer: Maximum iterations (200) reached and the optimization hasn't converged yet.\n",
      "  warnings.warn(\n",
      "/home/lucas/micromamba/envs/cs135_env/lib/python3.10/site-packages/sklearn/neural_network/_multilayer_perceptron.py:686: ConvergenceWarning: Stochastic Optimizer: Maximum iterations (200) reached and the optimization hasn't converged yet.\n",
      "  warnings.warn(\n",
      "/home/lucas/micromamba/envs/cs135_env/lib/python3.10/site-packages/sklearn/neural_network/_multilayer_perceptron.py:686: ConvergenceWarning: Stochastic Optimizer: Maximum iterations (200) reached and the optimization hasn't converged yet.\n",
      "  warnings.warn(\n",
      "/home/lucas/micromamba/envs/cs135_env/lib/python3.10/site-packages/sklearn/neural_network/_multilayer_perceptron.py:686: ConvergenceWarning: Stochastic Optimizer: Maximum iterations (200) reached and the optimization hasn't converged yet.\n",
      "  warnings.warn(\n",
      "/home/lucas/micromamba/envs/cs135_env/lib/python3.10/site-packages/sklearn/neural_network/_multilayer_perceptron.py:686: ConvergenceWarning: Stochastic Optimizer: Maximum iterations (200) reached and the optimization hasn't converged yet.\n",
      "  warnings.warn(\n",
      "/home/lucas/micromamba/envs/cs135_env/lib/python3.10/site-packages/sklearn/neural_network/_multilayer_perceptron.py:686: ConvergenceWarning: Stochastic Optimizer: Maximum iterations (200) reached and the optimization hasn't converged yet.\n",
      "  warnings.warn(\n",
      "/home/lucas/micromamba/envs/cs135_env/lib/python3.10/site-packages/sklearn/neural_network/_multilayer_perceptron.py:686: ConvergenceWarning: Stochastic Optimizer: Maximum iterations (200) reached and the optimization hasn't converged yet.\n",
      "  warnings.warn(\n",
      "/home/lucas/micromamba/envs/cs135_env/lib/python3.10/site-packages/sklearn/neural_network/_multilayer_perceptron.py:686: ConvergenceWarning: Stochastic Optimizer: Maximum iterations (200) reached and the optimization hasn't converged yet.\n",
      "  warnings.warn(\n",
      "/home/lucas/micromamba/envs/cs135_env/lib/python3.10/site-packages/sklearn/neural_network/_multilayer_perceptron.py:686: ConvergenceWarning: Stochastic Optimizer: Maximum iterations (200) reached and the optimization hasn't converged yet.\n",
      "  warnings.warn(\n",
      "/home/lucas/micromamba/envs/cs135_env/lib/python3.10/site-packages/sklearn/neural_network/_multilayer_perceptron.py:686: ConvergenceWarning: Stochastic Optimizer: Maximum iterations (200) reached and the optimization hasn't converged yet.\n",
      "  warnings.warn(\n",
      "/home/lucas/micromamba/envs/cs135_env/lib/python3.10/site-packages/sklearn/neural_network/_multilayer_perceptron.py:686: ConvergenceWarning: Stochastic Optimizer: Maximum iterations (200) reached and the optimization hasn't converged yet.\n",
      "  warnings.warn(\n",
      "/home/lucas/micromamba/envs/cs135_env/lib/python3.10/site-packages/sklearn/neural_network/_multilayer_perceptron.py:686: ConvergenceWarning: Stochastic Optimizer: Maximum iterations (200) reached and the optimization hasn't converged yet.\n",
      "  warnings.warn(\n",
      "/home/lucas/micromamba/envs/cs135_env/lib/python3.10/site-packages/sklearn/neural_network/_multilayer_perceptron.py:686: ConvergenceWarning: Stochastic Optimizer: Maximum iterations (200) reached and the optimization hasn't converged yet.\n",
      "  warnings.warn(\n",
      "/home/lucas/micromamba/envs/cs135_env/lib/python3.10/site-packages/sklearn/neural_network/_multilayer_perceptron.py:686: ConvergenceWarning: Stochastic Optimizer: Maximum iterations (200) reached and the optimization hasn't converged yet.\n",
      "  warnings.warn(\n",
      "/home/lucas/micromamba/envs/cs135_env/lib/python3.10/site-packages/sklearn/neural_network/_multilayer_perceptron.py:686: ConvergenceWarning: Stochastic Optimizer: Maximum iterations (200) reached and the optimization hasn't converged yet.\n",
      "  warnings.warn(\n",
      "/home/lucas/micromamba/envs/cs135_env/lib/python3.10/site-packages/sklearn/neural_network/_multilayer_perceptron.py:686: ConvergenceWarning: Stochastic Optimizer: Maximum iterations (200) reached and the optimization hasn't converged yet.\n",
      "  warnings.warn(\n"
     ]
    },
    {
     "data": {
      "text/html": [
       "<style>#sk-container-id-3 {color: black;background-color: white;}#sk-container-id-3 pre{padding: 0;}#sk-container-id-3 div.sk-toggleable {background-color: white;}#sk-container-id-3 label.sk-toggleable__label {cursor: pointer;display: block;width: 100%;margin-bottom: 0;padding: 0.3em;box-sizing: border-box;text-align: center;}#sk-container-id-3 label.sk-toggleable__label-arrow:before {content: \"▸\";float: left;margin-right: 0.25em;color: #696969;}#sk-container-id-3 label.sk-toggleable__label-arrow:hover:before {color: black;}#sk-container-id-3 div.sk-estimator:hover label.sk-toggleable__label-arrow:before {color: black;}#sk-container-id-3 div.sk-toggleable__content {max-height: 0;max-width: 0;overflow: hidden;text-align: left;background-color: #f0f8ff;}#sk-container-id-3 div.sk-toggleable__content pre {margin: 0.2em;color: black;border-radius: 0.25em;background-color: #f0f8ff;}#sk-container-id-3 input.sk-toggleable__control:checked~div.sk-toggleable__content {max-height: 200px;max-width: 100%;overflow: auto;}#sk-container-id-3 input.sk-toggleable__control:checked~label.sk-toggleable__label-arrow:before {content: \"▾\";}#sk-container-id-3 div.sk-estimator input.sk-toggleable__control:checked~label.sk-toggleable__label {background-color: #d4ebff;}#sk-container-id-3 div.sk-label input.sk-toggleable__control:checked~label.sk-toggleable__label {background-color: #d4ebff;}#sk-container-id-3 input.sk-hidden--visually {border: 0;clip: rect(1px 1px 1px 1px);clip: rect(1px, 1px, 1px, 1px);height: 1px;margin: -1px;overflow: hidden;padding: 0;position: absolute;width: 1px;}#sk-container-id-3 div.sk-estimator {font-family: monospace;background-color: #f0f8ff;border: 1px dotted black;border-radius: 0.25em;box-sizing: border-box;margin-bottom: 0.5em;}#sk-container-id-3 div.sk-estimator:hover {background-color: #d4ebff;}#sk-container-id-3 div.sk-parallel-item::after {content: \"\";width: 100%;border-bottom: 1px solid gray;flex-grow: 1;}#sk-container-id-3 div.sk-label:hover label.sk-toggleable__label {background-color: #d4ebff;}#sk-container-id-3 div.sk-serial::before {content: \"\";position: absolute;border-left: 1px solid gray;box-sizing: border-box;top: 0;bottom: 0;left: 50%;z-index: 0;}#sk-container-id-3 div.sk-serial {display: flex;flex-direction: column;align-items: center;background-color: white;padding-right: 0.2em;padding-left: 0.2em;position: relative;}#sk-container-id-3 div.sk-item {position: relative;z-index: 1;}#sk-container-id-3 div.sk-parallel {display: flex;align-items: stretch;justify-content: center;background-color: white;position: relative;}#sk-container-id-3 div.sk-item::before, #sk-container-id-3 div.sk-parallel-item::before {content: \"\";position: absolute;border-left: 1px solid gray;box-sizing: border-box;top: 0;bottom: 0;left: 50%;z-index: -1;}#sk-container-id-3 div.sk-parallel-item {display: flex;flex-direction: column;z-index: 1;position: relative;background-color: white;}#sk-container-id-3 div.sk-parallel-item:first-child::after {align-self: flex-end;width: 50%;}#sk-container-id-3 div.sk-parallel-item:last-child::after {align-self: flex-start;width: 50%;}#sk-container-id-3 div.sk-parallel-item:only-child::after {width: 0;}#sk-container-id-3 div.sk-dashed-wrapped {border: 1px dashed gray;margin: 0 0.4em 0.5em 0.4em;box-sizing: border-box;padding-bottom: 0.4em;background-color: white;}#sk-container-id-3 div.sk-label label {font-family: monospace;font-weight: bold;display: inline-block;line-height: 1.2em;}#sk-container-id-3 div.sk-label-container {text-align: center;}#sk-container-id-3 div.sk-container {/* jupyter's `normalize.less` sets `[hidden] { display: none; }` but bootstrap.min.css set `[hidden] { display: none !important; }` so we also need the `!important` here to be able to override the default hidden behavior on the sphinx rendered scikit-learn.org. See: https://github.com/scikit-learn/scikit-learn/issues/21755 */display: inline-block !important;position: relative;}#sk-container-id-3 div.sk-text-repr-fallback {display: none;}</style><div id=\"sk-container-id-3\" class=\"sk-top-container\"><div class=\"sk-text-repr-fallback\"><pre>GridSearchCV(cv=5, estimator=MLPClassifier(),\n",
       "             param_grid={&#x27;alpha&#x27;: array([1.e-04, 1.e-03, 1.e-02, 1.e-01, 1.e+00, 1.e+01, 1.e+02, 1.e+03,\n",
       "       1.e+04]),\n",
       "                         &#x27;hidden_layer_sizes&#x27;: [(768,), (100,), (20,)]},\n",
       "             refit=False, return_train_score=True, scoring=&#x27;roc_auc&#x27;)</pre><b>In a Jupyter environment, please rerun this cell to show the HTML representation or trust the notebook. <br />On GitHub, the HTML representation is unable to render, please try loading this page with nbviewer.org.</b></div><div class=\"sk-container\" hidden><div class=\"sk-item sk-dashed-wrapped\"><div class=\"sk-label-container\"><div class=\"sk-label sk-toggleable\"><input class=\"sk-toggleable__control sk-hidden--visually\" id=\"sk-estimator-id-7\" type=\"checkbox\" ><label for=\"sk-estimator-id-7\" class=\"sk-toggleable__label sk-toggleable__label-arrow\">GridSearchCV</label><div class=\"sk-toggleable__content\"><pre>GridSearchCV(cv=5, estimator=MLPClassifier(),\n",
       "             param_grid={&#x27;alpha&#x27;: array([1.e-04, 1.e-03, 1.e-02, 1.e-01, 1.e+00, 1.e+01, 1.e+02, 1.e+03,\n",
       "       1.e+04]),\n",
       "                         &#x27;hidden_layer_sizes&#x27;: [(768,), (100,), (20,)]},\n",
       "             refit=False, return_train_score=True, scoring=&#x27;roc_auc&#x27;)</pre></div></div></div><div class=\"sk-parallel\"><div class=\"sk-parallel-item\"><div class=\"sk-item\"><div class=\"sk-label-container\"><div class=\"sk-label sk-toggleable\"><input class=\"sk-toggleable__control sk-hidden--visually\" id=\"sk-estimator-id-8\" type=\"checkbox\" ><label for=\"sk-estimator-id-8\" class=\"sk-toggleable__label sk-toggleable__label-arrow\">estimator: MLPClassifier</label><div class=\"sk-toggleable__content\"><pre>MLPClassifier()</pre></div></div></div><div class=\"sk-serial\"><div class=\"sk-item\"><div class=\"sk-estimator sk-toggleable\"><input class=\"sk-toggleable__control sk-hidden--visually\" id=\"sk-estimator-id-9\" type=\"checkbox\" ><label for=\"sk-estimator-id-9\" class=\"sk-toggleable__label sk-toggleable__label-arrow\">MLPClassifier</label><div class=\"sk-toggleable__content\"><pre>MLPClassifier()</pre></div></div></div></div></div></div></div></div></div></div>"
      ],
      "text/plain": [
       "GridSearchCV(cv=5, estimator=MLPClassifier(),\n",
       "             param_grid={'alpha': array([1.e-04, 1.e-03, 1.e-02, 1.e-01, 1.e+00, 1.e+01, 1.e+02, 1.e+03,\n",
       "       1.e+04]),\n",
       "                         'hidden_layer_sizes': [(768,), (100,), (20,)]},\n",
       "             refit=False, return_train_score=True, scoring='roc_auc')"
      ]
     },
     "execution_count": 24,
     "metadata": {},
     "output_type": "execute_result"
    }
   ],
   "source": [
    "clf = MLPClassifier()\n",
    "grid_serch_cv = GridSearchCV(clf, param_grid, scoring='roc_auc', cv=5, refit=False, return_train_score=True)\n",
    "grid_serch_cv.fit(x_train_embeddings, y_train_array)"
   ]
  },
  {
   "cell_type": "code",
   "execution_count": 25,
   "metadata": {},
   "outputs": [
    {
     "data": {
      "text/plain": [
       "{'alpha': 10.0, 'hidden_layer_sizes': (20,)}"
      ]
     },
     "execution_count": 25,
     "metadata": {},
     "output_type": "execute_result"
    }
   ],
   "source": [
    "grid_serch_cv.best_params_"
   ]
  },
  {
   "cell_type": "code",
   "execution_count": 26,
   "metadata": {},
   "outputs": [
    {
     "data": {
      "text/plain": [
       "0.96559375"
      ]
     },
     "execution_count": 26,
     "metadata": {},
     "output_type": "execute_result"
    }
   ],
   "source": [
    "grid_serch_cv.best_score_"
   ]
  },
  {
   "cell_type": "code",
   "execution_count": 27,
   "metadata": {},
   "outputs": [
    {
     "data": {
      "text/plain": [
       "{'mean_fit_time': array([ 6.19306579,  1.71408   ,  1.44973769,  6.58522921,  2.20748286,\n",
       "         1.27810197, 22.66891375,  2.20783844,  1.33249807, 12.67841911,\n",
       "         5.62788162,  1.63773046,  9.11778431,  2.11031265,  1.29702663,\n",
       "         3.90965414,  0.91157374,  0.49595151,  3.03462768,  0.80678172,\n",
       "         0.9151125 ,  2.25854278,  0.72080626,  0.76630378,  2.57028899,\n",
       "         0.93379865,  0.96818624]),\n",
       " 'std_fit_time': array([7.72663553e-01, 1.67533495e-01, 2.22220781e-01, 5.99116739e-01,\n",
       "        2.60270801e-01, 1.50374976e-01, 7.52125392e+00, 2.59307097e-01,\n",
       "        1.98036599e-01, 1.96217118e+00, 6.76291340e-01, 3.59221204e-01,\n",
       "        2.55138486e+00, 1.18902667e+00, 4.12966783e-01, 9.61273863e-01,\n",
       "        2.17890876e-01, 1.32948484e-01, 3.10764895e-01, 1.13700955e-01,\n",
       "        2.37383054e-01, 1.12881720e-01, 7.01880195e-03, 2.91566781e-02,\n",
       "        3.12997688e-01, 1.32243695e-02, 7.35244490e-02]),\n",
       " 'mean_score_time': array([0.00339351, 0.00175481, 0.00208349, 0.00393562, 0.00245805,\n",
       "        0.00203757, 0.07148809, 0.00570626, 0.00211158, 0.01499162,\n",
       "        0.01803603, 0.0039557 , 0.00353889, 0.00857573, 0.00368319,\n",
       "        0.00342903, 0.0023582 , 0.00174866, 0.00402856, 0.00202885,\n",
       "        0.00309744, 0.00393806, 0.0019752 , 0.00173841, 0.00413141,\n",
       "        0.00209203, 0.00162044]),\n",
       " 'std_score_time': array([0.00043323, 0.00022007, 0.00042729, 0.000784  , 0.0007121 ,\n",
       "        0.00031764, 0.0314726 , 0.00271254, 0.0007529 , 0.02240338,\n",
       "        0.00338183, 0.00172754, 0.00034972, 0.0111565 , 0.00192493,\n",
       "        0.00026607, 0.00032472, 0.00034998, 0.00048504, 0.00026668,\n",
       "        0.00283094, 0.00017242, 0.0001137 , 0.00020052, 0.00029327,\n",
       "        0.00021632, 0.00026033]),\n",
       " 'param_alpha': masked_array(data=[0.0001, 0.0001, 0.0001, 0.001, 0.001, 0.001, 0.01,\n",
       "                    0.01, 0.01, 0.1, 0.1, 0.1, 1.0, 1.0, 1.0, 10.0, 10.0,\n",
       "                    10.0, 100.0, 100.0, 100.0, 1000.0, 1000.0, 1000.0,\n",
       "                    10000.0, 10000.0, 10000.0],\n",
       "              mask=[False, False, False, False, False, False, False, False,\n",
       "                    False, False, False, False, False, False, False, False,\n",
       "                    False, False, False, False, False, False, False, False,\n",
       "                    False, False, False],\n",
       "        fill_value='?',\n",
       "             dtype=object),\n",
       " 'param_hidden_layer_sizes': masked_array(data=[(768,), (100,), (20,), (768,), (100,), (20,), (768,),\n",
       "                    (100,), (20,), (768,), (100,), (20,), (768,), (100,),\n",
       "                    (20,), (768,), (100,), (20,), (768,), (100,), (20,),\n",
       "                    (768,), (100,), (20,), (768,), (100,), (20,)],\n",
       "              mask=[False, False, False, False, False, False, False, False,\n",
       "                    False, False, False, False, False, False, False, False,\n",
       "                    False, False, False, False, False, False, False, False,\n",
       "                    False, False, False],\n",
       "        fill_value='?',\n",
       "             dtype=object),\n",
       " 'params': [{'alpha': 0.0001, 'hidden_layer_sizes': (768,)},\n",
       "  {'alpha': 0.0001, 'hidden_layer_sizes': (100,)},\n",
       "  {'alpha': 0.0001, 'hidden_layer_sizes': (20,)},\n",
       "  {'alpha': 0.001, 'hidden_layer_sizes': (768,)},\n",
       "  {'alpha': 0.001, 'hidden_layer_sizes': (100,)},\n",
       "  {'alpha': 0.001, 'hidden_layer_sizes': (20,)},\n",
       "  {'alpha': 0.01, 'hidden_layer_sizes': (768,)},\n",
       "  {'alpha': 0.01, 'hidden_layer_sizes': (100,)},\n",
       "  {'alpha': 0.01, 'hidden_layer_sizes': (20,)},\n",
       "  {'alpha': 0.1, 'hidden_layer_sizes': (768,)},\n",
       "  {'alpha': 0.1, 'hidden_layer_sizes': (100,)},\n",
       "  {'alpha': 0.1, 'hidden_layer_sizes': (20,)},\n",
       "  {'alpha': 1.0, 'hidden_layer_sizes': (768,)},\n",
       "  {'alpha': 1.0, 'hidden_layer_sizes': (100,)},\n",
       "  {'alpha': 1.0, 'hidden_layer_sizes': (20,)},\n",
       "  {'alpha': 10.0, 'hidden_layer_sizes': (768,)},\n",
       "  {'alpha': 10.0, 'hidden_layer_sizes': (100,)},\n",
       "  {'alpha': 10.0, 'hidden_layer_sizes': (20,)},\n",
       "  {'alpha': 100.0, 'hidden_layer_sizes': (768,)},\n",
       "  {'alpha': 100.0, 'hidden_layer_sizes': (100,)},\n",
       "  {'alpha': 100.0, 'hidden_layer_sizes': (20,)},\n",
       "  {'alpha': 1000.0, 'hidden_layer_sizes': (768,)},\n",
       "  {'alpha': 1000.0, 'hidden_layer_sizes': (100,)},\n",
       "  {'alpha': 1000.0, 'hidden_layer_sizes': (20,)},\n",
       "  {'alpha': 10000.0, 'hidden_layer_sizes': (768,)},\n",
       "  {'alpha': 10000.0, 'hidden_layer_sizes': (100,)},\n",
       "  {'alpha': 10000.0, 'hidden_layer_sizes': (20,)}],\n",
       " 'split0_test_score': array([0.95881944, 0.95015625, 0.94724826, 0.95670139, 0.95055556,\n",
       "        0.94661458, 0.95772569, 0.95208333, 0.94685764, 0.95818576,\n",
       "        0.95174479, 0.94809028, 0.96170139, 0.95748264, 0.95817708,\n",
       "        0.96291667, 0.96329861, 0.96255208, 0.92232639, 0.91895833,\n",
       "        0.91510417, 0.4359375 , 0.90974826, 0.93448785, 0.5       ,\n",
       "        0.5       , 0.575     ]),\n",
       " 'split1_test_score': array([0.96164931, 0.95572917, 0.94769097, 0.96347222, 0.95548611,\n",
       "        0.94741319, 0.96475694, 0.95919271, 0.95303819, 0.96465278,\n",
       "        0.9571875 , 0.95494792, 0.96151042, 0.96192708, 0.95934028,\n",
       "        0.96432292, 0.96489583, 0.96541667, 0.93032986, 0.92356771,\n",
       "        0.93826389, 0.5       , 0.93072917, 0.93805556, 0.5       ,\n",
       "        0.5       , 0.5       ]),\n",
       " 'split2_test_score': array([0.95459201, 0.94842882, 0.94304687, 0.95250868, 0.94798611,\n",
       "        0.94174479, 0.95071181, 0.94885417, 0.94060764, 0.95211806,\n",
       "        0.94673611, 0.94009549, 0.95052083, 0.95081597, 0.95086806,\n",
       "        0.95657986, 0.95690972, 0.95842014, 0.92330729, 0.93697917,\n",
       "        0.94138021, 0.7       , 0.9293316 , 0.936875  , 0.5       ,\n",
       "        0.5       , 0.5       ]),\n",
       " 'split3_test_score': array([0.96644097, 0.95780382, 0.95360243, 0.96526042, 0.96106771,\n",
       "        0.95602431, 0.9634809 , 0.95881944, 0.95853299, 0.96272569,\n",
       "        0.96041667, 0.95876736, 0.96697917, 0.96071181, 0.96135417,\n",
       "        0.96873264, 0.97019097, 0.96980903, 0.94488715, 0.94289062,\n",
       "        0.95083333, 0.5       , 0.93872396, 0.95328993, 0.5       ,\n",
       "        0.87916667, 0.60625   ]),\n",
       " 'split4_test_score': array([0.96927951, 0.96309028, 0.95741319, 0.96793403, 0.96217882,\n",
       "        0.95607639, 0.96954861, 0.96217882, 0.95162326, 0.9690625 ,\n",
       "        0.96454861, 0.95475694, 0.96677083, 0.96477431, 0.96368056,\n",
       "        0.97180556, 0.97149306, 0.97177083, 0.94578125, 0.94453993,\n",
       "        0.92722222, 0.5       , 0.9365191 , 0.92383681, 0.5       ,\n",
       "        0.5       , 0.5       ]),\n",
       " 'mean_test_score': array([0.96215625, 0.95504167, 0.94980035, 0.96117535, 0.95545486,\n",
       "        0.94957465, 0.96124479, 0.95622569, 0.95013194, 0.96134896,\n",
       "        0.95612674, 0.9513316 , 0.96149653, 0.95914236, 0.95868403,\n",
       "        0.96487153, 0.96535764, 0.96559375, 0.93332639, 0.93338715,\n",
       "        0.93456076, 0.5271875 , 0.92901042, 0.93730903, 0.5       ,\n",
       "        0.57583333, 0.53625   ]),\n",
       " 'std_test_score': array([0.00524802, 0.00530055, 0.00507904, 0.00570562, 0.00559468,\n",
       "        0.00563225, 0.00647482, 0.00494912, 0.00604452, 0.00578835,\n",
       "        0.00629034, 0.00658571, 0.00597303, 0.00477535, 0.00433294,\n",
       "        0.00521274, 0.00523115, 0.0048305 , 0.01018957, 0.01031712,\n",
       "        0.01230795, 0.08989795, 0.0102452 , 0.00944028, 0.        ,\n",
       "        0.15166667, 0.04548351]),\n",
       " 'rank_test_score': array([ 4, 14, 17,  8, 13, 18,  7, 11, 16,  6, 12, 15,  5,  9, 10,  3,  2,\n",
       "         1, 22, 21, 20, 26, 23, 19, 27, 24, 25], dtype=int32),\n",
       " 'split0_train_score': array([1.        , 1.        , 1.        , 1.        , 1.        ,\n",
       "        1.        , 1.        , 1.        , 1.        , 1.        ,\n",
       "        1.        , 0.99995768, 0.99882487, 0.99858073, 0.99659288,\n",
       "        0.97821615, 0.97850152, 0.97908637, 0.93823947, 0.93699219,\n",
       "        0.93655328, 0.45286838, 0.92886827, 0.947838  , 0.5       ,\n",
       "        0.5       , 0.57708333]),\n",
       " 'split1_train_score': array([1.        , 1.        , 1.        , 1.        , 1.        ,\n",
       "        1.        , 1.        , 1.        , 1.        , 0.99981228,\n",
       "        1.        , 1.        , 0.99850369, 0.9970855 , 0.9971875 ,\n",
       "        0.97812283, 0.97746311, 0.97841037, 0.94092773, 0.93627224,\n",
       "        0.94382216, 0.5       , 0.93667806, 0.94767524, 0.5       ,\n",
       "        0.5       , 0.5       ]),\n",
       " 'split2_train_score': array([1.        , 1.        , 0.99999783, 1.        , 1.        ,\n",
       "        1.        , 1.        , 1.        , 1.        , 1.        ,\n",
       "        1.        , 0.99999891, 0.9986263 , 0.99697591, 0.99572266,\n",
       "        0.97831055, 0.97944553, 0.97858832, 0.9357959 , 0.94725966,\n",
       "        0.94392741, 0.70208333, 0.92541829, 0.94027669, 0.5       ,\n",
       "        0.5       , 0.5       ]),\n",
       " 'split3_train_score': array([1.        , 1.        , 1.        , 1.        , 1.        ,\n",
       "        1.        , 1.        , 1.        , 1.        , 1.        ,\n",
       "        1.        , 1.        , 0.99382813, 0.9982194 , 0.99619466,\n",
       "        0.97610135, 0.977551  , 0.97707574, 0.94016493, 0.93880317,\n",
       "        0.94618761, 0.5       , 0.92606283, 0.9463265 , 0.5       ,\n",
       "        0.87604167, 0.603125  ]),\n",
       " 'split4_train_score': array([1.        , 1.        , 1.        , 1.        , 1.        ,\n",
       "        1.        , 1.        , 1.        , 1.        , 1.        ,\n",
       "        1.        , 1.        , 0.99780056, 0.99738173, 0.99685764,\n",
       "        0.97606337, 0.97652886, 0.97676432, 0.94202582, 0.94474664,\n",
       "        0.93382813, 0.50259983, 0.92354546, 0.92386013, 0.5       ,\n",
       "        0.5       , 0.50052083]),\n",
       " 'mean_train_score': array([1.        , 1.        , 0.99999957, 1.        , 1.        ,\n",
       "        1.        , 1.        , 1.        , 1.        , 0.99996246,\n",
       "        1.        , 0.99999132, 0.99751671, 0.99764865, 0.99651107,\n",
       "        0.97736285, 0.977898  , 0.97798503, 0.93943077, 0.94081478,\n",
       "        0.94086372, 0.53151031, 0.92811458, 0.94119531, 0.5       ,\n",
       "        0.57520833, 0.53614583]),\n",
       " 'std_train_score': array([0.00000000e+00, 0.00000000e+00, 8.68055556e-07, 0.00000000e+00,\n",
       "        0.00000000e+00, 0.00000000e+00, 0.00000000e+00, 0.00000000e+00,\n",
       "        0.00000000e+00, 7.50868056e-05, 4.96506831e-17, 1.68238259e-05,\n",
       "        1.87631752e-03, 6.38041870e-04, 5.11091252e-04, 1.04726878e-03,\n",
       "        9.94299855e-04, 9.02748303e-04, 2.19752944e-03, 4.38837928e-03,\n",
       "        4.78668664e-03, 8.72941288e-02, 4.60993950e-03, 9.09720886e-03,\n",
       "        0.00000000e+00, 1.50416667e-01, 4.48202428e-02])}"
      ]
     },
     "execution_count": 27,
     "metadata": {},
     "output_type": "execute_result"
    }
   ],
   "source": [
    "grid_serch_cv.cv_results_"
   ]
  },
  {
   "cell_type": "code",
   "execution_count": 31,
   "metadata": {},
   "outputs": [],
   "source": [
    "#making best classifier for fitting and getting predictions\n",
    "best_clf = MLPClassifier(alpha=10.0, hidden_layer_sizes=(20,))\n",
    "best_clf.fit(x_train_embeddings, y_train_array)\n",
    "y_test = best_clf.predict(x_test_embeddings)\n",
    "y_test_probas = best_clf.predict_proba(x_test_embeddings)"
   ]
  },
  {
   "cell_type": "code",
   "execution_count": 32,
   "metadata": {},
   "outputs": [],
   "source": [
    "#writing probas to a file\n",
    "try:\n",
    "    file = open('part2/yproba1_test.txt', 'w')\n",
    "    y_test_probas[:, 1].tofile(file, sep=\"\\n\")\n",
    "except Exception as e: \n",
    "    print(\"error: \" + str(e))\n",
    "finally: \n",
    "    file.close() "
   ]
  },
  {
   "cell_type": "code",
   "execution_count": null,
   "metadata": {},
   "outputs": [],
   "source": []
  }
 ],
 "metadata": {
  "kernelspec": {
   "display_name": "Python 3",
   "language": "python",
   "name": "python3"
  },
  "language_info": {
   "codemirror_mode": {
    "name": "ipython",
    "version": 3
   },
   "file_extension": ".py",
   "mimetype": "text/x-python",
   "name": "python",
   "nbconvert_exporter": "python",
   "pygments_lexer": "ipython3",
   "version": "3.10.12"
  }
 },
 "nbformat": 4,
 "nbformat_minor": 2
}
